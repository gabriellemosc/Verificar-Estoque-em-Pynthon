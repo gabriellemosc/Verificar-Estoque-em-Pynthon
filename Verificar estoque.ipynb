{
 "cells": [
  {
   "cell_type": "markdown",
   "metadata": {},
   "source": [
    "# Exercícios"
   ]
  },
  {
   "cell_type": "code",
   "execution_count": 10,
   "metadata": {},
   "outputs": [
    {
     "name": "stdout",
     "output_type": "stream",
     "text": [
      "Preencha todas as informações corretamente\n"
     ]
    }
   ],
   "source": [
    "#Verificar estoque de loja. Categorizar produto e verificar se usuário preencheu as informações\n",
    "\n",
    "categoria = input(\"Digite a categoria do produto\")\n",
    "nome_do_produto = input(\"Digite o nome do produto\")\n",
    "quantidade_em_estoque = input(\"Digite a quantidade de produto em estoqu\")\n",
    "\n",
    "if categoria and nome_do_produto and quantidade_em_estoque:\n",
    "  if categoria == \"Bebida\":\n",
    "    if int(quantidade_em_estoque) < 75:\n",
    "      print(\"Reabastecer estoque de bebida\")\n",
    "    else:\n",
    "      print(\"Tudo certo com o estoque de bebidas\")\n",
    "\n",
    "if categoria == \"Alimentos\":\n",
    "  if int(quantidade_em_estoque) < 50:\n",
    "    print(\"Reabastecer estoque de alimentos\")\n",
    "  else:\n",
    "    print(\"Tudo certo com o estoque de alimentos\")\n",
    "\n",
    "if categoria == \"Limpeza\":\n",
    "  if int(quantidade_em_estoque) < 30:\n",
    "    print(\"Reabastecer estoque de limpeza\")\n",
    "  else:\n",
    "    print(\"Tudo certo com o estoque de limpeza\")\n",
    "\n",
    "\n",
    "else:\n",
    "  print(\"Preencha todas as informações corretamente\")"
   ]
  }
 ],
 "metadata": {
  "kernelspec": {
   "display_name": "Python 3",
   "language": "python",
   "name": "python3"
  },
  "language_info": {
   "codemirror_mode": {
    "name": "ipython",
    "version": 3
   },
   "file_extension": ".py",
   "mimetype": "text/x-python",
   "name": "python",
   "nbconvert_exporter": "python",
   "pygments_lexer": "ipython3",
   "version": "3.12.1"
  }
 },
 "nbformat": 4,
 "nbformat_minor": 4
}
